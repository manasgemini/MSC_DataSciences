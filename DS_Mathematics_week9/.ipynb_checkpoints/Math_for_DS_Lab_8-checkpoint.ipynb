{
 "cells": [
  {
   "cell_type": "markdown",
   "id": "b498bf76",
   "metadata": {},
   "source": [
    "## Maths for Data Science: Lab Session 8"
   ]
  },
  {
   "cell_type": "markdown",
   "id": "09b67e9a",
   "metadata": {},
   "source": [
    "Calculus is a branch of mathematics focused on limits, functions, derivatives, integrals, and infinite series. We will use SymPy library to do calculus with python. SymPy is a Python library for symbolic mathematics. It aims to become a full-featured computer algebra system (CAS) while keeping the code as simple as possible in order to be comprehensible and easily extensible. "
   ]
  },
  {
   "cell_type": "markdown",
   "id": "9c4e46b2",
   "metadata": {},
   "source": [
    "#### Installation"
   ]
  },
  {
   "cell_type": "code",
   "execution_count": 1,
   "id": "3507b338",
   "metadata": {},
   "outputs": [
    {
     "name": "stdout",
     "output_type": "stream",
     "text": [
      "Defaulting to user installation because normal site-packages is not writeable\n",
      "Requirement already satisfied: sympy in c:\\programdata\\anaconda3\\lib\\site-packages (1.11.1)\n",
      "Requirement already satisfied: mpmath>=0.19 in c:\\programdata\\anaconda3\\lib\\site-packages (from sympy) (1.2.1)\n",
      "Note: you may need to restart the kernel to use updated packages.\n"
     ]
    }
   ],
   "source": [
    "pip install sympy  "
   ]
  },
  {
   "cell_type": "markdown",
   "id": "f8421456",
   "metadata": {},
   "source": [
    "If we want to write any sympy expression, first we have to declare its symbolic variables. To do this, we can use the following two functions :\n",
    "\n",
    "1. sympy.Symbol(): It is used to declare a single variable by passing the variable as a string into its parameter.\n",
    "2. sympy.symbols(): It is used to declare multivariable by passing the variables as a string into its parameter. All the variables must be separated by a space forming a string."
   ]
  },
  {
   "cell_type": "markdown",
   "id": "f877831e",
   "metadata": {},
   "source": [
    "### 1. Differentiation\n",
    "We can differentiate any sympy expression by using diff(func, var) method. The parameter func denotes the sympy expression to be differentiated and var denotes the variable with respect to which we have to differentiate."
   ]
  },
  {
   "cell_type": "markdown",
   "id": "3999a3f1",
   "metadata": {},
   "source": [
    "#### Example 1"
   ]
  },
  {
   "cell_type": "code",
   "execution_count": 2,
   "id": "5438b176",
   "metadata": {},
   "outputs": [
    {
     "name": "stdout",
     "output_type": "stream",
     "text": [
      "derivative w.r.t x:  3*x**2*y\n",
      "derivative w.r.t y:  x**3 + 3*y**2\n"
     ]
    }
   ],
   "source": [
    "# Importing library\n",
    "import sympy as sym\n",
    " \n",
    "# Declaring variables\n",
    "x, y, z = sym.symbols('x y z')\n",
    " \n",
    "# expression of which we have to find derivative\n",
    "exp = x**3 * y + y**3 + z\n",
    " \n",
    "# Differentiating exp with respect to x\n",
    "derivative1_x = sym.diff(exp, x)\n",
    "print('derivative w.r.t x: ', \n",
    "      derivative1_x)\n",
    " \n",
    "# Differentiating exp with respect to y\n",
    "derivative1_y = sym.diff(exp, y)\n",
    "print('derivative w.r.t y: ', \n",
    "      derivative1_y)"
   ]
  },
  {
   "cell_type": "markdown",
   "id": "d156955e",
   "metadata": {},
   "source": [
    "#### Example 2\n",
    "We can also find higher derivatives using the diff(func, var, n) method. Here, the parameter n denotes the nth derivative to be found."
   ]
  },
  {
   "cell_type": "code",
   "execution_count": 6,
   "id": "5dcff237",
   "metadata": {},
   "outputs": [
    {
     "name": "stdout",
     "output_type": "stream",
     "text": [
      "second derivative w.r.t. x:  6*x*y\n",
      "second derivative w.r.t. y:  6*y\n"
     ]
    }
   ],
   "source": [
    "# Finding second derivative \n",
    "# of exp with respect to x\n",
    "derivative2_x = sym.diff(exp, x, 2)\n",
    "print('second derivative w.r.t. x: ', \n",
    "      derivative2_x)\n",
    " \n",
    "# Finding second derivative \n",
    "# of exp with respect to y\n",
    "derivative2_y = sym.diff(exp, y, 2)\n",
    "print('second derivative w.r.t. y: ', \n",
    "      derivative2_y)"
   ]
  },
  {
   "cell_type": "markdown",
   "id": "90fd57e1",
   "metadata": {},
   "source": [
    "### Task 1\n",
    "Find the first and second derivative of y with respect to x for the following functions:\n",
    "\n",
    "\n",
    "\n",
    "  1.\n",
    "\n",
    "\n",
    "$\n",
    "x^2 + 2y + y^3\n",
    "$\n"
   ]
  },
  {
   "cell_type": "code",
   "execution_count": 8,
   "id": "bf67d137",
   "metadata": {},
   "outputs": [
    {
     "name": "stdout",
     "output_type": "stream",
     "text": [
      "1st derivative of y with respect to x: 2*x\n",
      "2nd derivative of y with respect to x: 2\n"
     ]
    }
   ],
   "source": [
    "import sympy as sym\n",
    "\n",
    "x,y= sym.symbols('x y')\n",
    "\n",
    "exp=x**2 + 2*y + y**3\n",
    "\n",
    "derivateive1_x=sym.diff(exp,x)\n",
    "print('1st derivative of y with respect to x:', derivateive1_x)\n",
    "\n",
    "derivateive2_x=sym.diff(exp,x,2)\n",
    "print('2nd derivative of y with respect to x:', derivateive2_x)\n"
   ]
  },
  {
   "cell_type": "markdown",
   "id": "97ff341a",
   "metadata": {},
   "source": [
    "2."
   ]
  },
  {
   "cell_type": "markdown",
   "id": "760b841c",
   "metadata": {},
   "source": [
    "$\n",
    "x^2 y^2 + 2xy + x^3 y^3 \n",
    "$"
   ]
  },
  {
   "cell_type": "code",
   "execution_count": 9,
   "id": "e175ca54",
   "metadata": {},
   "outputs": [
    {
     "name": "stdout",
     "output_type": "stream",
     "text": [
      "1st derivative of y with respect to x: 3*x**2*y**3 + 2*x*y**2 + 2*y\n",
      "2nd derivative of y with respect to x: 2*y**2*(3*x*y + 1)\n"
     ]
    }
   ],
   "source": [
    "import sympy as sym\n",
    "\n",
    "x,y= sym.symbols('x y')\n",
    "\n",
    "exp=x**2 * y**2 + 2*x*y + x**3 * y**3\n",
    "\n",
    "derivateive1_x=sym.diff(exp,x)\n",
    "print('1st derivative of y with respect to x:', derivateive1_x)\n",
    "\n",
    "derivateive2_x=sym.diff(exp,x,2)\n",
    "print('2nd derivative of y with respect to x:', derivateive2_x)\n"
   ]
  },
  {
   "cell_type": "markdown",
   "id": "ffe59d05",
   "metadata": {},
   "source": [
    "### 2. Integration\n",
    "Definite integrals are the extension after indefinite integrals, definite integrals have limits [a, b]. It gives the area of a curve bounded between given limits."
   ]
  },
  {
   "cell_type": "markdown",
   "id": "69ee474b",
   "metadata": {},
   "source": [
    "### For calculating area under curve\n",
    "\n",
    "1. Import module\n",
    "2. Declare function\n",
    "3. Integrate."
   ]
  },
  {
   "cell_type": "markdown",
   "id": "ca6f492b",
   "metadata": {},
   "source": [
    "#### a) The area under one curve"
   ]
  },
  {
   "cell_type": "code",
   "execution_count": 10,
   "id": "79868625",
   "metadata": {},
   "outputs": [
    {
     "name": "stdout",
     "output_type": "stream",
     "text": [
      "8/3\n"
     ]
    }
   ],
   "source": [
    "import matplotlib.pyplot as plt \n",
    "import numpy as np \n",
    "import sympy as sy \n",
    "  \n",
    "  \n",
    "def f(x): \n",
    "    return x**2\n",
    "  \n",
    "x = sy.Symbol(\"x\") \n",
    "print(sy.integrate(f(x), (x, 0, 2)))"
   ]
  },
  {
   "cell_type": "markdown",
   "id": "6bea9f15",
   "metadata": {},
   "source": [
    "#### b) The area between two curves"
   ]
  },
  {
   "cell_type": "code",
   "execution_count": 11,
   "id": "f3f09d35",
   "metadata": {},
   "outputs": [
    {
     "name": "stdout",
     "output_type": "stream",
     "text": [
      "0.781048583502540\n"
     ]
    }
   ],
   "source": [
    "import matplotlib.pyplot as plt \n",
    "import numpy as np \n",
    "import sympy as sy \n",
    "  \n",
    "  \n",
    "def f(x): \n",
    "    return x**2\n",
    "  \n",
    "  \n",
    "def g(x): \n",
    "    return x**(1/2) \n",
    "  \n",
    "  \n",
    "x = sy.Symbol(\"x\") \n",
    "print(sy.integrate(f(x)-g(x), (x, 0, 2))) "
   ]
  },
  {
   "cell_type": "markdown",
   "id": "fa058ff0",
   "metadata": {},
   "source": [
    "### Task 2\n",
    "Find the definite integral of the following functions\n",
    "#### a) The area under one curve\n",
    "\n",
    "1.\n",
    "\n",
    "$\n",
    "2x^3  \n",
    "$\n",
    "  from 0 to 2"
   ]
  },
  {
   "cell_type": "code",
   "execution_count": 12,
   "id": "43ba735d",
   "metadata": {},
   "outputs": [
    {
     "name": "stdout",
     "output_type": "stream",
     "text": [
      "8\n"
     ]
    }
   ],
   "source": [
    "import matplotlib.pyplot as plt \n",
    "import numpy as np \n",
    "import sympy as sy \n",
    "  \n",
    "  \n",
    "def f(x): \n",
    "    return 2*x**3\n",
    "  \n",
    "x = sy.Symbol(\"x\") \n",
    "print(sy.integrate(f(x), (x, 0, 2)))"
   ]
  },
  {
   "cell_type": "markdown",
   "id": "6c7d0243",
   "metadata": {},
   "source": [
    "2. "
   ]
  },
  {
   "cell_type": "markdown",
   "id": "188cafb6",
   "metadata": {},
   "source": [
    "$\n",
    "4x^2-3x  \n",
    "$\n",
    "  from -1 to 1"
   ]
  },
  {
   "cell_type": "code",
   "execution_count": 14,
   "id": "2a5f3722",
   "metadata": {},
   "outputs": [
    {
     "name": "stdout",
     "output_type": "stream",
     "text": [
      "8/3\n"
     ]
    }
   ],
   "source": [
    "import matplotlib.pyplot as plt \n",
    "import numpy as np \n",
    "import sympy as sy \n",
    "  \n",
    "  \n",
    "def f(x): \n",
    "    return 4*𝑥**2 - 3*𝑥\n",
    "  \n",
    "x = sy.Symbol(\"x\") \n",
    "print(sy.integrate(f(x), (x, -1, 1)))"
   ]
  },
  {
   "cell_type": "markdown",
   "id": "522feba1",
   "metadata": {},
   "source": [
    "#### b) The area between two curves\n",
    "Function 1: \n",
    "$\n",
    "x^3\n",
    "$\n",
    "\n",
    "Function 2\n",
    "$\n",
    "4x^2-3x  \n",
    "$\n",
    "\n",
    "from 0 to 3"
   ]
  },
  {
   "cell_type": "code",
   "execution_count": 18,
   "id": "3e0a6d11",
   "metadata": {},
   "outputs": [
    {
     "name": "stdout",
     "output_type": "stream",
     "text": [
      "-9/4\n"
     ]
    }
   ],
   "source": [
    "import matplotlib.pyplot as plt \n",
    "import numpy as np \n",
    "import sympy as sy \n",
    "  \n",
    "  \n",
    "def f1(x): \n",
    "    return x**3\n",
    "  \n",
    "  \n",
    "def f2(x): \n",
    "    return 4*𝑥**2 - 3*𝑥\n",
    "  \n",
    "  \n",
    "x = sy.Symbol(\"x\") \n",
    "print(sy.integrate(f1(x)-f2(x), (x, 0, 3))) "
   ]
  },
  {
   "cell_type": "markdown",
   "id": "6d6a417d",
   "metadata": {},
   "source": [
    "### For plotting \n",
    "\n",
    "1. Import module\n",
    "2. Define a function\n",
    "3. Define a variable\n",
    "4. Draw the curve\n",
    "5. Fill the color under it using some condition.\n",
    "6. Display plot"
   ]
  },
  {
   "cell_type": "markdown",
   "id": "39827258",
   "metadata": {},
   "source": [
    "#### a) The area under one curve"
   ]
  },
  {
   "cell_type": "code",
   "execution_count": 16,
   "id": "e9037b30",
   "metadata": {},
   "outputs": [
    {
     "data": {
      "image/png": "[encoded data removed]",
      "text/plain": [
       "<Figure size 640x480 with 1 Axes>"
      ]
     },
     "metadata": {},
     "output_type": "display_data"
    }
   ],
   "source": [
    "import matplotlib.pyplot as plt \n",
    "import numpy as np \n",
    "  \n",
    "  \n",
    "def f(x): \n",
    "    return x**2\n",
    "  \n",
    "x = np.linspace(0, 2, 1000) \n",
    "plt.plot(x, f(x)) \n",
    "plt.axhline(color=\"black\") \n",
    "plt.fill_between(x, f(x), where=[(x > 0) and (x < 2) for x in x]) \n",
    "plt.show()"
   ]
  },
  {
   "cell_type": "markdown",
   "id": "2bbbc6bd",
   "metadata": {},
   "source": [
    "#### b) The area between two curves"
   ]
  },
  {
   "cell_type": "code",
   "execution_count": 17,
   "id": "897811cf",
   "metadata": {},
   "outputs": [
    {
     "data": {
      "image/png": "[encoded data removed]",
      "text/plain": [
       "<Figure size 640x480 with 1 Axes>"
      ]
     },
     "metadata": {},
     "output_type": "display_data"
    }
   ],
   "source": [
    "import matplotlib.pyplot as plt \n",
    "import numpy as np \n",
    "  \n",
    "  \n",
    "def f(x): \n",
    "    return x**2\n",
    "  \n",
    "  \n",
    "def g(x): \n",
    "    return x**(1/2) \n",
    "  \n",
    "  \n",
    "x = np.linspace(0, 2, 1000) \n",
    "plt.plot(x, f(x)) \n",
    "plt.plot(x, g(x)) \n",
    "plt.fill_between(x, f(x), g(x), where=[(x > 0) and (x < 2) for x in x]) \n",
    "plt.show() "
   ]
  },
  {
   "cell_type": "markdown",
   "id": "02373f7a",
   "metadata": {},
   "source": [
    "### Task 3\n",
    "Plot the area between the following two functions\n",
    "\n",
    "Function 1: \n",
    "$\n",
    "x^3\n",
    "$\n",
    "\n",
    "Function 2\n",
    "$\n",
    "4x^2-3x  \n",
    "$\n",
    "\n",
    "from 0 to 3"
   ]
  },
  {
   "cell_type": "code",
   "execution_count": 19,
   "id": "1dde3657",
   "metadata": {},
   "outputs": [
    {
     "data": {
      "image/png": "[encoded data removed]",
      "text/plain": [
       "<Figure size 640x480 with 1 Axes>"
      ]
     },
     "metadata": {},
     "output_type": "display_data"
    }
   ],
   "source": [
    "import matplotlib.pyplot as plt \n",
    "import numpy as np \n",
    "  \n",
    "  \n",
    "def f1(x): \n",
    "    return x**3\n",
    "  \n",
    "  \n",
    "def f2(x): \n",
    "    return 4*𝑥**2 - 3*𝑥\n",
    "  \n",
    "  \n",
    "x = np.linspace(0, 2, 1000) \n",
    "plt.plot(x, f1(x)) \n",
    "plt.plot(x, f2(x)) \n",
    "plt.fill_between(x, f1(x), f2(x), where=[(x > 0) and (x < 3) for x in x]) \n",
    "plt.show() "
   ]
  },
  {
   "cell_type": "code",
   "execution_count": null,
   "id": "84b236ae",
   "metadata": {},
   "outputs": [],
   "source": []
  }
 ],
 "metadata": {
  "kernelspec": {
   "display_name": "Python 3 (ipykernel)",
   "language": "python",
   "name": "python3"
  },
  "language_info": {
   "codemirror_mode": {
    "name": "ipython",
    "version": 3
   },
   "file_extension": ".py",
   "mimetype": "text/x-python",
   "name": "python",
   "nbconvert_exporter": "python",
   "pygments_lexer": "ipython3",
   "version": "3.10.9"
  }
 },
 "nbformat": 4,
 "nbformat_minor": 5
}
